{
 "cells": [
  {
   "cell_type": "markdown",
   "metadata": {},
   "source": [
    "## Anscombe Dataset. A research.\n",
    "\n",
    "### Francis John Anscombe\n",
    "\n",
    "Francis John Anscombe (13 May 1918 – 17 October 2001)was an English statistician renowned for his works on randomisation, analysis of variance (Anscombre transform, used to stabilise Standard Deviation in Poisson distributions is named after him) and computer statistics.\n",
    "\n",
    "### Anscombe dataset\n",
    "\n",
    "This is a well-known data set, firstly \n",
    "\n",
    "The Anscombe data set consists of 4 different sets of (x,y) values, with esentially identical values for:\n",
    "\n",
    "- mean of x\n",
    "- variance of x\n",
    "- mean of y\n",
    "- variance of y\n",
    "- correlation between x and y\n",
    "- linear regression intercept and slope\n",
    "\n",
    "Each dataset has a series of x values and dependent y values."
   ]
  },
  {
   "cell_type": "code",
   "execution_count": 36,
   "metadata": {},
   "outputs": [
    {
     "name": "stdout",
     "output_type": "stream",
     "text": [
      "    x1  x2  x3  x4     y1    y2     y3     y4\n",
      "0   10  10  10   8   8.04  9.14   7.46   6.58\n",
      "1    8   8   8   8   6.95  8.14   6.77   5.76\n",
      "2   13  13  13   8   7.58  8.74  12.74   7.71\n",
      "3    9   9   9   8   8.81  8.77   7.11   8.84\n",
      "4   11  11  11   8   8.33  9.26   7.81   8.47\n",
      "5   14  14  14   8   9.96  8.10   8.84   7.04\n",
      "6    6   6   6   8   7.24  6.13   6.08   5.25\n",
      "7    4   4   4  19   4.26  3.10   5.39  12.50\n",
      "8   12  12  12   8  10.84  9.13   8.15   5.56\n",
      "9    7   7   7   8   4.82  7.26   6.42   7.91\n",
      "10   5   5   5   8   5.68  4.74   5.73   6.89\n",
      "              x1         x2         x3         x4         y1         y2  \\\n",
      "count  11.000000  11.000000  11.000000  11.000000  11.000000  11.000000   \n",
      "mean    9.000000   9.000000   9.000000   9.000000   7.500909   7.500909   \n",
      "std     3.316625   3.316625   3.316625   3.316625   2.031568   2.031657   \n",
      "min     4.000000   4.000000   4.000000   8.000000   4.260000   3.100000   \n",
      "25%     6.500000   6.500000   6.500000   8.000000   6.315000   6.695000   \n",
      "50%     9.000000   9.000000   9.000000   8.000000   7.580000   8.140000   \n",
      "75%    11.500000  11.500000  11.500000   8.000000   8.570000   8.950000   \n",
      "max    14.000000  14.000000  14.000000  19.000000  10.840000   9.260000   \n",
      "\n",
      "              y3         y4  \n",
      "count  11.000000  11.000000  \n",
      "mean    7.500000   7.500909  \n",
      "std     2.030424   2.030579  \n",
      "min     5.390000   5.250000  \n",
      "25%     6.250000   6.170000  \n",
      "50%     7.110000   7.040000  \n",
      "75%     7.980000   8.190000  \n",
      "max    12.740000  12.500000  \n",
      "<bound method DataFrame.corr of     x1  x2  x3  x4     y1    y2     y3     y4\n",
      "0   10  10  10   8   8.04  9.14   7.46   6.58\n",
      "1    8   8   8   8   6.95  8.14   6.77   5.76\n",
      "2   13  13  13   8   7.58  8.74  12.74   7.71\n",
      "3    9   9   9   8   8.81  8.77   7.11   8.84\n",
      "4   11  11  11   8   8.33  9.26   7.81   8.47\n",
      "5   14  14  14   8   9.96  8.10   8.84   7.04\n",
      "6    6   6   6   8   7.24  6.13   6.08   5.25\n",
      "7    4   4   4  19   4.26  3.10   5.39  12.50\n",
      "8   12  12  12   8  10.84  9.13   8.15   5.56\n",
      "9    7   7   7   8   4.82  7.26   6.42   7.91\n",
      "10   5   5   5   8   5.68  4.74   5.73   6.89>\n"
     ]
    },
    {
     "data": {
      "image/png": "[encoded data removed]",
      "text/plain": [
       "<matplotlib.figure.Figure at 0x7fb2e42c85c0>"
      ]
     },
     "metadata": {},
     "output_type": "display_data"
    },
    {
     "data": {
      "image/png": "[encoded data removed]",
      "text/plain": [
       "<matplotlib.figure.Figure at 0x7fb2e41c1a20>"
      ]
     },
     "metadata": {},
     "output_type": "display_data"
    },
    {
     "data": {
      "image/png": "[encoded data removed]",
      "text/plain": [
       "<matplotlib.figure.Figure at 0x7fb2e4129a20>"
      ]
     },
     "metadata": {},
     "output_type": "display_data"
    },
    {
     "data": {
      "image/png": "[encoded data removed]",
      "text/plain": [
       "<matplotlib.figure.Figure at 0x7fb2e48da128>"
      ]
     },
     "metadata": {},
     "output_type": "display_data"
    }
   ],
   "source": [
    "import matplotlib.pyplot as plt\n",
    "import numpy as np\n",
    "\n",
    "\n",
    "# Importing dataset from csv file using pandas\n",
    "import pandas as pd\n",
    "data = pd.read_csv(\"anscombe.csv\")\n",
    "print (data)\n",
    "\n",
    "# Transforming dataset into DataFrame and describing its components\n",
    "df = pd.DataFrame(data)\n",
    "print (df.describe())\n",
    "\n",
    "# Plotting the four series of data in a scatter plot\n",
    "df.plot.scatter('x1','y1')\n",
    "df.plot.scatter('x2','y2')\n",
    "df.plot.scatter('x3','y3')\n",
    "df.plot.scatter('x4','y4')\n",
    "df.corr()\n",
    "\n",
    "print (df.corr)"
   ]
  },
  {
   "cell_type": "code",
   "execution_count": null,
   "metadata": {},
   "outputs": [],
   "source": []
  },
  {
   "cell_type": "markdown",
   "metadata": {},
   "source": [
    "### Graphical Representation\n",
    "\n"
   ]
  },
  {
   "cell_type": "code",
   "execution_count": null,
   "metadata": {},
   "outputs": [],
   "source": [
    "# Importing seaborn for plotting\n",
    "import seaborn as sns\n"
   ]
  },
  {
   "cell_type": "code",
   "execution_count": null,
   "metadata": {},
   "outputs": [],
   "source": []
  }
 ],
 "metadata": {
  "kernelspec": {
   "display_name": "Python 3",
   "language": "python",
   "name": "python3"
  },
  "language_info": {
   "codemirror_mode": {
    "name": "ipython",
    "version": 3
   },
   "file_extension": ".py",
   "mimetype": "text/x-python",
   "name": "python",
   "nbconvert_exporter": "python",
   "pygments_lexer": "ipython3",
   "version": "3.6.4"
  }
 },
 "nbformat": 4,
 "nbformat_minor": 2
}
