{
 "cells": [
  {
   "cell_type": "markdown",
   "metadata": {},
   "source": [
    "## Anscombe Dataset. A research.\n",
    "\n",
    "### Francis John Anscombe\n",
    "\n",
    "Francis John Anscombe (13 May 1918 – 17 October 2001) was an English statistician renowned for his works on randomisation, analysis of variance (Anscombre transform, used to stabilise Standard Deviation in Poisson distributions is named after him) and computer statistics.\n",
    "\n",
    "He published an article in 1973, titled __Graphs in Statistical Analysis__ in which he focused on the importance of having graphical representation of the variables to be analysed. He illustrated this point by presenting a data-set with particular characteristics. The article, published in The American Statistician, Vol. 27, No. 1. (Feb., 1973), pp. 17-21., can be visited following [this link](http://www.sjsu.edu/faculty/gerstman/StatPrimer/anscombe1973.pdf).\n",
    "\n",
    "We have to think that in 1973 the possibility of plotting data-sets was quite tedious and, due to the stage in the availability an development of computer science, quite unaffordable. However, he insisted in the importance of developing graphical analysis systems to avoid misinterpretation of data and constructing weak analysis.\n",
    "\n",
    "### Anscombe dataset\n",
    "\n",
    "This is a well-known data set, consisting in 4 different sets of (x,y) values.Each data-set has a series of x values and dependent y values. \n",
    "\n",
    "Interestingly, these four different data sets have essentially the same values for:\n",
    "\n",
    "- mean of x\n",
    "- variance of x\n",
    "- mean of y\n",
    "- variance of y\n",
    "- correlation between x and y\n",
    "\n",
    "As a first aproach, the data-set is displayed using DataFrames from pandas package."
   ]
  },
  {
   "cell_type": "code",
   "execution_count": 2,
   "metadata": {},
   "outputs": [
    {
     "name": "stdout",
     "output_type": "stream",
     "text": [
      "    x1  x2  x3  x4     y1    y2     y3     y4\n",
      "0   10  10  10   8   8.04  9.14   7.46   6.58\n",
      "1    8   8   8   8   6.95  8.14   6.77   5.76\n",
      "2   13  13  13   8   7.58  8.74  12.74   7.71\n",
      "3    9   9   9   8   8.81  8.77   7.11   8.84\n",
      "4   11  11  11   8   8.33  9.26   7.81   8.47\n",
      "5   14  14  14   8   9.96  8.10   8.84   7.04\n",
      "6    6   6   6   8   7.24  6.13   6.08   5.25\n",
      "7    4   4   4  19   4.26  3.10   5.39  12.50\n",
      "8   12  12  12   8  10.84  9.13   8.15   5.56\n",
      "9    7   7   7   8   4.82  7.26   6.42   7.91\n",
      "10   5   5   5   8   5.68  4.74   5.73   6.89\n"
     ]
    }
   ],
   "source": [
    "import matplotlib.pyplot as plt\n",
    "import numpy as np\n",
    "import pandas as pd\n",
    "\n",
    "# Importing dataset from csv file using pandas\n",
    "data = pd.read_csv(\"anscombe.csv\")\n",
    "print (data)\n"
   ]
  },
  {
   "cell_type": "markdown",
   "metadata": {},
   "source": [
    "### Obtaining summary statistics of the data set\n",
    "\n",
    "Summary statistics show, matchong with the description, almost the same values for means and standard deviations in both x and y sets.\n",
    "\n",
    "According to this information, we might be inclined to state that x and y distributions are both alike.\n"
   ]
  },
  {
   "cell_type": "code",
   "execution_count": 3,
   "metadata": {},
   "outputs": [
    {
     "name": "stdout",
     "output_type": "stream",
     "text": [
      "              x1         x2         x3         x4         y1         y2  \\\n",
      "count  11.000000  11.000000  11.000000  11.000000  11.000000  11.000000   \n",
      "mean    9.000000   9.000000   9.000000   9.000000   7.500909   7.500909   \n",
      "std     3.316625   3.316625   3.316625   3.316625   2.031568   2.031657   \n",
      "min     4.000000   4.000000   4.000000   8.000000   4.260000   3.100000   \n",
      "25%     6.500000   6.500000   6.500000   8.000000   6.315000   6.695000   \n",
      "50%     9.000000   9.000000   9.000000   8.000000   7.580000   8.140000   \n",
      "75%    11.500000  11.500000  11.500000   8.000000   8.570000   8.950000   \n",
      "max    14.000000  14.000000  14.000000  19.000000  10.840000   9.260000   \n",
      "\n",
      "              y3         y4  \n",
      "count  11.000000  11.000000  \n",
      "mean    7.500000   7.500909  \n",
      "std     2.030424   2.030579  \n",
      "min     5.390000   5.250000  \n",
      "25%     6.250000   6.170000  \n",
      "50%     7.110000   7.040000  \n",
      "75%     7.980000   8.190000  \n",
      "max    12.740000  12.500000  \n"
     ]
    }
   ],
   "source": [
    "# Transforming dataset into DataFrame and describing its components\n",
    "df = pd.DataFrame(data)\n",
    "print (df.describe())"
   ]
  },
  {
   "cell_type": "markdown",
   "metadata": {},
   "source": [
    "The definition also specified that correlation between every (x,y) set is almost the same. Pearson correlation coeficients are calculated for every pair.\n",
    "\n",
    "The result is, indeed, roughly the same for every pair. "
   ]
  },
  {
   "cell_type": "code",
   "execution_count": 4,
   "metadata": {},
   "outputs": [
    {
     "name": "stdout",
     "output_type": "stream",
     "text": [
      "Set (x1, y1) \n",
      "Linear correlation coeficient:  0.81642051634484 \n",
      "\n",
      "Set (x2, y2) \n",
      "Linear correlation coeficient:  0.8162365060002428 \n",
      "\n",
      "Set (x3, y3) \n",
      "Linear correlation coeficient:  0.8162867394895981 \n",
      "\n",
      "Set (x4, y4) \n",
      "Linear correlation coeficient:  0.8165214368885028 \n",
      "\n"
     ]
    }
   ],
   "source": [
    "# df.corr(['x1'],['y1'])\n",
    "corr1 = df.corr()['x1']['y1']\n",
    "corr2 = df.corr()['x2']['y2']\n",
    "corr3 = df.corr()['x3']['y3']\n",
    "corr4 = df.corr()['x4']['y4']\n",
    "\n",
    "sets=(\"(x1, y1)\", \"(x2, y2)\", \"(x3, y3)\", \"(x4, y4)\")\n",
    "corrs=(corr1, corr2, corr3, corr4)\n",
    "corrsets={\n",
    "    \"(x1, y1)\":(corr1), \"(x2, y2)\":(corr2), \"(x3, y3)\":(corr3), \"(x4, y4)\":(corr4)\n",
    "}\n",
    "\n",
    "for sets, corrs in corrsets.items():\n",
    "    print (\"Set\",(sets), \"\\nLinear correlation coeficient: \",(corrs),\"\\n\")"
   ]
  },
  {
   "cell_type": "markdown",
   "metadata": {},
   "source": [
    "### Graphical Representation\n",
    "\n"
   ]
  },
  {
   "cell_type": "markdown",
   "metadata": {},
   "source": [
    "Once established that this data-set complies with the definition and includes all its specific characteristics (equal, or very similar, means of x, means of y, variance of x, variance of y and linear correlatrion coeficients for every x-y set), we could conclude that these four sets are quite similar.\n",
    "\n",
    "And as such, we could think that there is no need for further investigation, provided that the summary statistics have alredy proven that these four sets behave in an almost identical way.\n",
    "\n",
    "However, we can still use graphical representation, although we could expect little information beyond what has been already gathered.\n",
    "\n",
    "For binomial sets as these, the most appropiate way of representation are disperssion plots (or scatter plots):"
   ]
  },
  {
   "cell_type": "code",
   "execution_count": 59,
   "metadata": {},
   "outputs": [
    {
     "data": {
      "text/plain": [
       "'\\nAlternative code, but still struggling with labels\\nfig, axes = plt.subplots(2, 2)\\naxes[0, 0].scatter(df[\\'x1\\'],df[\\'y1\\'])\\nax.set_title(\"Title for first plot\")\\naxes[0, 1].scatter(df[\\'x2\\'],df[\\'y2\\'])\\naxes[1, 0].scatter(df[\\'x3\\'],df[\\'y3\\'])\\naxes[1, 1].scatter(df[\\'x4\\'],df[\\'y4\\'])\\n'"
      ]
     },
     "execution_count": 59,
     "metadata": {},
     "output_type": "execute_result"
    },
    {
     "data": {
      "image/png": "[encoded data removed]",
      "text/plain": [
       "<matplotlib.figure.Figure at 0x7fb58004acc0>"
      ]
     },
     "metadata": {},
     "output_type": "display_data"
    }
   ],
   "source": [
    "fig = plt.figure()\n",
    "fig.suptitle(\"Anscombe's Quartet\", fontsize=16)\n",
    "ax = plt.subplot(\"221\")\n",
    "ax.set_title(\"SET 1\")\n",
    "ax.scatter(df['x1'],df['y1'])\n",
    "\n",
    "ax = plt.subplot(\"222\")\n",
    "ax.set_title(\"SET 2\")\n",
    "ax.scatter(df['x2'],df['y2'])\n",
    "\n",
    "ax = plt.subplot(\"223\")\n",
    "ax.set_title(\"SET 3\")\n",
    "ax.scatter(df['x3'],df['y3'])\n",
    "\n",
    "ax = plt.subplot(\"224\")\n",
    "ax.set_title(\"SET 4\")\n",
    "ax.scatter(df['x4'],df['y4'])\n",
    "\n",
    "'''\n",
    "Alternative code, but still struggling with labels\n",
    "fig, axes = plt.subplots(2, 2)\n",
    "axes[0, 0].scatter(df['x1'],df['y1'])\n",
    "ax.set_title(\"Title for first plot\")\n",
    "axes[0, 1].scatter(df['x2'],df['y2'])\n",
    "axes[1, 0].scatter(df['x3'],df['y3'])\n",
    "axes[1, 1].scatter(df['x4'],df['y4'])\n",
    "'''"
   ]
  },
  {
   "cell_type": "markdown",
   "metadata": {},
   "source": [
    "Surprisingly, all four sets have a completely different representation, although they still are sharing mean, variance (and thus, standard deviation) and correlation coeficients.\n",
    "\n",
    "Let's have a closer look to these four sets:"
   ]
  },
  {
   "cell_type": "code",
   "execution_count": 60,
   "metadata": {},
   "outputs": [
    {
     "data": {
      "text/plain": [
       "<matplotlib.axes._subplots.AxesSubplot at 0x7fb57fd8bb38>"
      ]
     },
     "execution_count": 60,
     "metadata": {},
     "output_type": "execute_result"
    },
    {
     "data": {
      "image/png": "[encoded data removed]",
      "text/plain": [
       "<matplotlib.figure.Figure at 0x7fb5807d1160>"
      ]
     },
     "metadata": {},
     "output_type": "display_data"
    },
    {
     "data": {
      "image/png": "[encoded data removed]",
      "text/plain": [
       "<matplotlib.figure.Figure at 0x7fb57fdf5a58>"
      ]
     },
     "metadata": {},
     "output_type": "display_data"
    },
    {
     "data": {
      "image/png": "[encoded data removed]",
      "text/plain": [
       "<matplotlib.figure.Figure at 0x7fb57fdde128>"
      ]
     },
     "metadata": {},
     "output_type": "display_data"
    },
    {
     "data": {
      "image/png": "[encoded data removed]",
      "text/plain": [
       "<matplotlib.figure.Figure at 0x7fb57fd9a588>"
      ]
     },
     "metadata": {},
     "output_type": "display_data"
    }
   ],
   "source": [
    "\n",
    "df.plot.scatter('x1','y1',grid=True, title='SET 1: (x1,y1)')\n",
    "df.plot.scatter('x2','y2',grid=True, title='SET 2: (x2,y2)')\n",
    "df.plot.scatter('x3','y3',grid=True, title='SET 3: (x3,y3)')\n",
    "df.plot.scatter('x4','y4',grid=True, title='SET 4: (x4,y4)')"
   ]
  },
  {
   "cell_type": "markdown",
   "metadata": {},
   "source": [
    "Further from the initil surprise, we can see some differences between these four plots.\n",
    "\n",
    "Plot 1 is what we are used to see and what we are used to see when plotting a 2-d set. Different markers distributed irregularly but also creating an imaginary striaght line that could roughly fit this distribution.\n",
    "Plot 2, on the other hand, represents a clear pattern at first sight, and we can imagine where the perception error is. We were so focused on the linear regression coefficient that we didn't stop to analyse if that was the best fit for a regression model. It seems cler that regression model for set number 2 could be better fit in a curve than in a straight line.\n",
    "And plots 3 and 4 both, even with a completely different distribution, fall under the same problem: outliers.\n",
    "\n",
    "It is a well-known problem for scientifists that the presence of extreme cases in an otherwise constant distribution will create interferences in the general model. In fact, a quite common work-around consists in identifying outliers and excluding them from the general model.\n",
    "\n",
    "## Conclusions\n",
    "\n",
    "Anscombe presented his famous Quartet in a paper titled _Graphs in Statistical Analysis_ in 1973. By the time, graphical representation technologies were in a very early stage. Computer science was still a discipline in development, with expensive and scarce computers available for the common researcher or student. Furhermore, their computational capabilities were light-yers away from those in ournowadays personal computers or cell phones. Anscombe, as an expert in scientific anlysis, states in this article \n",
    ">>_\"A computer should make both calculations and graphs. Both sorts of output should be studied; each will contribute to understanding.\"\n",
    "\n",
    "The second thought, related to the need of developing tools for analysis, is rooted in the statistical science applied to analytical tasks. Anscombe proves the importance of combining calculations, but also of testing graphical distribution, since both can help the researcher to understand the reality.\n",
    "\n",
    "## Anscombe's Quartet Legacy. The Datasaurius Dozen\n",
    "\n",
    "45 years after Ascombe's article was published, it still echoes and is shown as a brilliant piece of scientific literature, clearly exposing the main thesis and proving them by means of a surprising, but scientifically accurate exposition.\n",
    "\n",
    "During the research period to ellaborate this project, I have come accross a very interesting article in which authors want to pay tribute to Anscombe, creating a new set of 12 surprising data-sets. I do recommend a visit to this article, which can be found [through this link](https://www.autodeskresearch.com/publications/samestats).\n"
   ]
  }
 ],
 "metadata": {
  "kernelspec": {
   "display_name": "Python 3",
   "language": "python",
   "name": "python3"
  },
  "language_info": {
   "codemirror_mode": {
    "name": "ipython",
    "version": 3
   },
   "file_extension": ".py",
   "mimetype": "text/x-python",
   "name": "python",
   "nbconvert_exporter": "python",
   "pygments_lexer": "ipython3",
   "version": "3.6.4"
  }
 },
 "nbformat": 4,
 "nbformat_minor": 2
}
