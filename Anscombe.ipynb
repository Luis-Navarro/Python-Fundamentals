{
 "cells": [
  {
   "cell_type": "markdown",
   "metadata": {},
   "source": [
    "## Anscombe Dataset. A research.\n",
    "\n",
    "### Francis John Anscombe\n",
    "\n",
    "Francis John Anscombe (13 May 1918 – 17 October 2001)was an English statistician renowned for his works on randomisation, analysis of variance (Anscombre transform, used to stabilise Standard Deviation in Poisson distributions is named after him) and computer statistics.\n",
    "\n",
    "### Anscombe dataset\n",
    "\n",
    "This is a well-known data set, consisting in 4 different sets of (x,y) values.Each data-set has a series of x values and dependent y values. \n",
    "\n",
    "Interestingly, these four different data sets have essentially the same values for:\n",
    "\n",
    "- mean of x\n",
    "- variance of x\n",
    "- mean of y\n",
    "- variance of y\n",
    "- correlation between x and y\n",
    "- linear regression intercept and slope\n",
    "\n",
    "As a first aproach, the data-set is displayed using DataFrames from pandas package."
   ]
  },
  {
   "cell_type": "code",
   "execution_count": 154,
   "metadata": {},
   "outputs": [
    {
     "name": "stdout",
     "output_type": "stream",
     "text": [
      "    x1  x2  x3  x4     y1    y2     y3     y4\n",
      "0   10  10  10   8   8.04  9.14   7.46   6.58\n",
      "1    8   8   8   8   6.95  8.14   6.77   5.76\n",
      "2   13  13  13   8   7.58  8.74  12.74   7.71\n",
      "3    9   9   9   8   8.81  8.77   7.11   8.84\n",
      "4   11  11  11   8   8.33  9.26   7.81   8.47\n",
      "5   14  14  14   8   9.96  8.10   8.84   7.04\n",
      "6    6   6   6   8   7.24  6.13   6.08   5.25\n",
      "7    4   4   4  19   4.26  3.10   5.39  12.50\n",
      "8   12  12  12   8  10.84  9.13   8.15   5.56\n",
      "9    7   7   7   8   4.82  7.26   6.42   7.91\n",
      "10   5   5   5   8   5.68  4.74   5.73   6.89\n"
     ]
    }
   ],
   "source": [
    "import matplotlib.pyplot as plt\n",
    "import numpy as np\n",
    "import pandas as pd\n",
    "\n",
    "# Importing dataset from csv file using pandas\n",
    "data = pd.read_csv(\"anscombe.csv\")\n",
    "print (data)\n"
   ]
  },
  {
   "cell_type": "markdown",
   "metadata": {},
   "source": [
    "### Obtaining summary statistics of the data set\n",
    "\n",
    "Summary statistics show, matchong with the description, almost the same values for means and standard deviations in both x and y sets.\n",
    "\n",
    "According to this information, we might be inclined to state that x and y distributions are both alike.\n"
   ]
  },
  {
   "cell_type": "code",
   "execution_count": 3,
   "metadata": {},
   "outputs": [
    {
     "name": "stdout",
     "output_type": "stream",
     "text": [
      "              x1         x2         x3         x4         y1         y2  \\\n",
      "count  11.000000  11.000000  11.000000  11.000000  11.000000  11.000000   \n",
      "mean    9.000000   9.000000   9.000000   9.000000   7.500909   7.500909   \n",
      "std     3.316625   3.316625   3.316625   3.316625   2.031568   2.031657   \n",
      "min     4.000000   4.000000   4.000000   8.000000   4.260000   3.100000   \n",
      "25%     6.500000   6.500000   6.500000   8.000000   6.315000   6.695000   \n",
      "50%     9.000000   9.000000   9.000000   8.000000   7.580000   8.140000   \n",
      "75%    11.500000  11.500000  11.500000   8.000000   8.570000   8.950000   \n",
      "max    14.000000  14.000000  14.000000  19.000000  10.840000   9.260000   \n",
      "\n",
      "              y3         y4  \n",
      "count  11.000000  11.000000  \n",
      "mean    7.500000   7.500909  \n",
      "std     2.030424   2.030579  \n",
      "min     5.390000   5.250000  \n",
      "25%     6.250000   6.170000  \n",
      "50%     7.110000   7.040000  \n",
      "75%     7.980000   8.190000  \n",
      "max    12.740000  12.500000  \n"
     ]
    }
   ],
   "source": [
    "# Transforming dataset into DataFrame and describing its components\n",
    "df = pd.DataFrame(data)\n",
    "print (df.describe())"
   ]
  },
  {
   "cell_type": "markdown",
   "metadata": {},
   "source": [
    "The definition also specified that correlation between every (x,y) set is almost the same. Pearson correlation coeficients are calculated for every pair.\n",
    "\n",
    "The result is, indeed, roughly the same for every pair. "
   ]
  },
  {
   "cell_type": "code",
   "execution_count": 152,
   "metadata": {},
   "outputs": [
    {
     "name": "stdout",
     "output_type": "stream",
     "text": [
      "Set (x1, y1) \n",
      "Linear correlation coeficient:  0.81642051634484 \n",
      "\n",
      "Set (x2, y2) \n",
      "Linear correlation coeficient:  0.8162365060002428 \n",
      "\n",
      "Set (x3, y3) \n",
      "Linear correlation coeficient:  0.8162867394895981 \n",
      "\n",
      "Set (x4, y4) \n",
      "Linear correlation coeficient:  0.8165214368885028 \n",
      "\n"
     ]
    }
   ],
   "source": [
    "# df.corr(['x1'],['y1'])\n",
    "corr1 = df.corr()['x1']['y1']\n",
    "corr2 = df.corr()['x2']['y2']\n",
    "corr3 = df.corr()['x3']['y3']\n",
    "corr4 = df.corr()['x4']['y4']\n",
    "\n",
    "sets=(\"(x1, y1)\", \"(x2, y2)\", \"(x3, y3)\", \"(x4, y4)\")\n",
    "corrs=(corr1, corr2, corr3, corr4)\n",
    "\n",
    "\"\"\"\n",
    "Trying to build (corrsets) using dict and zip:\n",
    "\n",
    "corrsets=dict(zip(sets), (corrs))\n",
    "\n",
    "dict({'one': 1, 'two': 2})\n",
    "dict(one=1, two=2)\n",
    "dict({'one': 1, 'two': 2})\n",
    "dict(zip(('one', 'two'), (1, 2)))\n",
    "dict([['two', 2], ['one', 1]])\n",
    "\n",
    "\"\"\"\n",
    "\n",
    "corrsets={\n",
    "    \"(x1, y1)\":(corr1), \"(x2, y2)\":(corr2), \"(x3, y3)\":(corr3), \"(x4, y4)\":(corr4)\n",
    "}\n",
    "\n",
    "for sets, corrs in corrsets.items():\n",
    "    print (\"Set\",(sets), \"\\nLinear correlation coeficient: \",(corrs),\"\\n\")"
   ]
  },
  {
   "cell_type": "code",
   "execution_count": 182,
   "metadata": {},
   "outputs": [
    {
     "ename": "AttributeError",
     "evalue": "'Series' object has no attribute 'y'",
     "output_type": "error",
     "traceback": [
      "\u001b[0;31m---------------------------------------------------------------------------\u001b[0m",
      "\u001b[0;31mAttributeError\u001b[0m                            Traceback (most recent call last)",
      "\u001b[0;32m<ipython-input-182-067ad9df7854>\u001b[0m in \u001b[0;36m<module>\u001b[0;34m()\u001b[0m\n\u001b[1;32m      2\u001b[0m \u001b[0my\u001b[0m\u001b[0;34m=\u001b[0m \u001b[0mdf\u001b[0m\u001b[0;34m.\u001b[0m\u001b[0mloc\u001b[0m\u001b[0;34m[\u001b[0m\u001b[0;34m:\u001b[0m\u001b[0;34m,\u001b[0m\u001b[0;34m'y1'\u001b[0m\u001b[0;34m]\u001b[0m\u001b[0;34m\u001b[0m\u001b[0m\n\u001b[1;32m      3\u001b[0m \u001b[0;34m\u001b[0m\u001b[0m\n\u001b[0;32m----> 4\u001b[0;31m \u001b[0mplt\u001b[0m\u001b[0;34m.\u001b[0m\u001b[0mplot\u001b[0m\u001b[0;34m(\u001b[0m\u001b[0mx\u001b[0m\u001b[0;34m.\u001b[0m\u001b[0my\u001b[0m\u001b[0;34m)\u001b[0m\u001b[0;34m\u001b[0m\u001b[0m\n\u001b[0m\u001b[1;32m      5\u001b[0m \u001b[0;34m\u001b[0m\u001b[0m\n",
      "\u001b[0;32m~/anaconda3/lib/python3.6/site-packages/pandas/core/generic.py\u001b[0m in \u001b[0;36m__getattr__\u001b[0;34m(self, name)\u001b[0m\n\u001b[1;32m   3612\u001b[0m             \u001b[0;32mif\u001b[0m \u001b[0mname\u001b[0m \u001b[0;32min\u001b[0m \u001b[0mself\u001b[0m\u001b[0;34m.\u001b[0m\u001b[0m_info_axis\u001b[0m\u001b[0;34m:\u001b[0m\u001b[0;34m\u001b[0m\u001b[0m\n\u001b[1;32m   3613\u001b[0m                 \u001b[0;32mreturn\u001b[0m \u001b[0mself\u001b[0m\u001b[0;34m[\u001b[0m\u001b[0mname\u001b[0m\u001b[0;34m]\u001b[0m\u001b[0;34m\u001b[0m\u001b[0m\n\u001b[0;32m-> 3614\u001b[0;31m             \u001b[0;32mreturn\u001b[0m \u001b[0mobject\u001b[0m\u001b[0;34m.\u001b[0m\u001b[0m__getattribute__\u001b[0m\u001b[0;34m(\u001b[0m\u001b[0mself\u001b[0m\u001b[0;34m,\u001b[0m \u001b[0mname\u001b[0m\u001b[0;34m)\u001b[0m\u001b[0;34m\u001b[0m\u001b[0m\n\u001b[0m\u001b[1;32m   3615\u001b[0m \u001b[0;34m\u001b[0m\u001b[0m\n\u001b[1;32m   3616\u001b[0m     \u001b[0;32mdef\u001b[0m \u001b[0m__setattr__\u001b[0m\u001b[0;34m(\u001b[0m\u001b[0mself\u001b[0m\u001b[0;34m,\u001b[0m \u001b[0mname\u001b[0m\u001b[0;34m,\u001b[0m \u001b[0mvalue\u001b[0m\u001b[0;34m)\u001b[0m\u001b[0;34m:\u001b[0m\u001b[0;34m\u001b[0m\u001b[0m\n",
      "\u001b[0;31mAttributeError\u001b[0m: 'Series' object has no attribute 'y'"
     ]
    }
   ],
   "source": [
    "x= df.loc[:,'x1']\n",
    "y= df.loc[:,'y1']\n",
    "\n",
    "plt.plot(x.y)\n",
    "\n"
   ]
  },
  {
   "cell_type": "code",
   "execution_count": null,
   "metadata": {},
   "outputs": [],
   "source": [
    "fig = plt.figure()\n",
    "fig.add_subplot(111)"
   ]
  },
  {
   "cell_type": "markdown",
   "metadata": {},
   "source": [
    "### Graphical Representation\n",
    "\n"
   ]
  },
  {
   "cell_type": "code",
   "execution_count": 177,
   "metadata": {},
   "outputs": [
    {
     "ename": "TypeError",
     "evalue": "scatter() missing 1 required positional argument: 'y'",
     "output_type": "error",
     "traceback": [
      "\u001b[0;31m---------------------------------------------------------------------------\u001b[0m",
      "\u001b[0;31mTypeError\u001b[0m                                 Traceback (most recent call last)",
      "\u001b[0;32m<ipython-input-177-1299f7fc0a05>\u001b[0m in \u001b[0;36m<module>\u001b[0;34m()\u001b[0m\n\u001b[1;32m      2\u001b[0m \u001b[0;31m# Plotting the four series of data in a scatter plot\u001b[0m\u001b[0;34m\u001b[0m\u001b[0;34m\u001b[0m\u001b[0m\n\u001b[1;32m      3\u001b[0m \u001b[0;34m\u001b[0m\u001b[0m\n\u001b[0;32m----> 4\u001b[0;31m \u001b[0mdf\u001b[0m\u001b[0;34m.\u001b[0m\u001b[0mplot\u001b[0m\u001b[0;34m.\u001b[0m\u001b[0mscatter\u001b[0m\u001b[0;34m(\u001b[0m\u001b[0;34m(\u001b[0m\u001b[0msets\u001b[0m\u001b[0;34m)\u001b[0m\u001b[0;34m,\u001b[0m\u001b[0mgrid\u001b[0m\u001b[0;34m=\u001b[0m\u001b[0;32mTrue\u001b[0m\u001b[0;34m,\u001b[0m \u001b[0msubplots\u001b[0m\u001b[0;34m=\u001b[0m\u001b[0;32mTrue\u001b[0m\u001b[0;34m)\u001b[0m\u001b[0;34m\u001b[0m\u001b[0m\n\u001b[0m\u001b[1;32m      5\u001b[0m \u001b[0;34m\u001b[0m\u001b[0m\n\u001b[1;32m      6\u001b[0m \u001b[0;34m\u001b[0m\u001b[0m\n",
      "\u001b[0;31mTypeError\u001b[0m: scatter() missing 1 required positional argument: 'y'"
     ]
    }
   ],
   "source": [
    "\n",
    "# Plotting the four series of data in a scatter plot\n",
    "\n",
    "df.plot.scatter((sets),grid=True, subplots=True)\n",
    "\n",
    "\n",
    "df.plot.scatter('x1','y1',grid=True)\n",
    "df.plot.scatter('x2','y2',grid=True)\n",
    "df.plot.scatter('x3','y3',grid=True)\n",
    "df.plot.scatter('x4','y4',grid=True)\n",
    "\n",
    "plt.show()\n",
    "# Importing seaborn for plotting\n",
    "import seaborn as sns\n"
   ]
  },
  {
   "cell_type": "code",
   "execution_count": 77,
   "metadata": {},
   "outputs": [
    {
     "data": {
      "text/plain": [
       "'\\nax2.set_xlabel(\\'sample\\')\\nax2.set_ylabel(\\'cumulative sum\\')\\nax2.set_title(\"Normal distrubution\")\\nplt.tight_layout()\\n'"
      ]
     },
     "execution_count": 77,
     "metadata": {},
     "output_type": "execute_result"
    },
    {
     "data": {
      "image/png": "[encoded data removed]",
      "text/plain": [
       "<matplotlib.figure.Figure at 0x7f3981485be0>"
      ]
     },
     "metadata": {},
     "output_type": "display_data"
    },
    {
     "data": {
      "image/png": "[encoded data removed]",
      "text/plain": [
       "<matplotlib.figure.Figure at 0x7f398190b4e0>"
      ]
     },
     "metadata": {},
     "output_type": "display_data"
    },
    {
     "data": {
      "image/png": "[encoded data removed]",
      "text/plain": [
       "<matplotlib.figure.Figure at 0x7f398179ba20>"
      ]
     },
     "metadata": {},
     "output_type": "display_data"
    }
   ],
   "source": [
    "fig = plt.figure(figsize=(6,3))\n",
    "ax1 = fig.add_subplot(121)\n",
    "#ax1.set_xlabel('some random numbers')\n",
    "#ax1.set_ylabel('more random numbers')\n",
    "#ax1.set_title(\"Random scatterplot\")\n",
    "df.plot.scatter('x1','y1',grid=True)\n",
    "ax2 = fig.add_subplot(122)\n",
    "df.plot.scatter('x2','y2',grid=True)\n",
    "#plt.hist(np.random.normal(size=100), bins=15)\n",
    "'''\n",
    "ax2.set_xlabel('sample')\n",
    "ax2.set_ylabel('cumulative sum')\n",
    "ax2.set_title(\"Normal distrubution\")\n",
    "plt.tight_layout()\n",
    "'''"
   ]
  },
  {
   "cell_type": "code",
   "execution_count": 101,
   "metadata": {},
   "outputs": [
    {
     "name": "stdout",
     "output_type": "stream",
     "text": [
      "9\n",
      "9\n",
      "9\n"
     ]
    }
   ],
   "source": [
    "list_of_lists = [ [1, 2, 3], [4, 5, 6], [7, 8, 9]]\n",
    "for list in list_of_lists:\n",
    "    #for x in list:\n",
    "        print (x)"
   ]
  },
  {
   "cell_type": "code",
   "execution_count": null,
   "metadata": {},
   "outputs": [],
   "source": []
  }
 ],
 "metadata": {
  "kernelspec": {
   "display_name": "Python 3",
   "language": "python",
   "name": "python3"
  },
  "language_info": {
   "codemirror_mode": {
    "name": "ipython",
    "version": 3
   },
   "file_extension": ".py",
   "mimetype": "text/x-python",
   "name": "python",
   "nbconvert_exporter": "python",
   "pygments_lexer": "ipython3",
   "version": "3.6.4"
  }
 },
 "nbformat": 4,
 "nbformat_minor": 2
}
